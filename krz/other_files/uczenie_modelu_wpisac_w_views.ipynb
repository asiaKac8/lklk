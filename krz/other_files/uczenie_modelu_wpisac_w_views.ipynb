{
 "cells": [
  {
   "cell_type": "code",
   "execution_count": 5,
   "metadata": {},
   "outputs": [
    {
     "name": "stdout",
     "output_type": "stream",
     "text": [
      "   id  sepal_length  sepal_width  petal_length  petal_width classification\n",
      "0   1           5.4          3.7           1.5          0.2    Iris-setosa\n",
      "1   2           4.8          3.4           1.6          0.2    Iris-setosa\n",
      "2   3           4.8          3.0           1.4          0.1    Iris-setosa\n",
      "3   4           4.3          3.0           1.1          0.1    Iris-setosa\n",
      "4   5           5.8          4.0           1.2          0.2    Iris-setosa\n"
     ]
    }
   ],
   "source": [
    "# ten kod tworzy plik pickle, ktory przechowuje nauczony model\n",
    "\n",
    "from pandas import read_csv\n",
    "from sklearn.model_selection import train_test_split\n",
    "from sklearn.metrics import accuracy_score\n",
    "from sklearn.svm import SVC\n",
    "import pandas as pd\n",
    "import sqlite3\n",
    "\n",
    "# Read sqlite query results into a pandas DataFrame\n",
    "con = sqlite3.connect(\"db.sqlite3\")\n",
    "df = pd.read_sql_query(\"SELECT * from predict_irisimportexport\", con)\n",
    "\n",
    "# Verify that result of SQL query is stored in the dataframe\n",
    "print(df.head())\n",
    "\n",
    "con.close()\n",
    "\n"
   ]
  },
  {
   "cell_type": "code",
   "execution_count": 7,
   "metadata": {},
   "outputs": [
    {
     "name": "stdout",
     "output_type": "stream",
     "text": [
      "['Iris-setosa']\n"
     ]
    }
   ],
   "source": [
    "X = df[['sepal_length','sepal_width','petal_length','petal_width']]\n",
    "y = df['classification']\n",
    "\n",
    "X_train, X_test, Y_train, Y_test = train_test_split(X, y, test_size=0.20, random_state=1)\n",
    "\n",
    "model = SVC(gamma='auto')\n",
    "model.fit(X_train, Y_train)\n",
    "\n",
    "predictions = model.predict(X_test)\n",
    "\n",
    "# zapisanie modelu do pliku new_model.pickle\n",
    "pd.to_pickle(model,r'new_model.pickle')\n",
    "model = pd.read_pickle(r'new_model.pickle') \n",
    "\n",
    "# sprawdzenie czy wszystko dziala poprawnie\n",
    "sepal_length = float(input(\"Enter sepal_length: \"))\n",
    "sepal_width = float(input(\"Enter sepa_width: \"))\n",
    "petal_length = float(input(\"Enter petal_length: \"))\n",
    "petal_width = float(input(\"Enter petal_width: \"))\n",
    "\n",
    "result = model.predict([[sepal_length,sepal_width,petal_length,petal_width]])  # input must be 2D array\n",
    "print(result)"
   ]
  }
 ],
 "metadata": {
  "kernelspec": {
   "display_name": "Python 3",
   "language": "python",
   "name": "python3"
  },
  "language_info": {
   "codemirror_mode": {
    "name": "ipython",
    "version": 3
   },
   "file_extension": ".py",
   "mimetype": "text/x-python",
   "name": "python",
   "nbconvert_exporter": "python",
   "pygments_lexer": "ipython3",
   "version": "3.8.5"
  }
 },
 "nbformat": 4,
 "nbformat_minor": 4
}
